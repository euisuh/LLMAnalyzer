{
 "cells": [
  {
   "cell_type": "markdown",
   "id": "de8efcc4-2c42-4b52-af56-54ce4f317be3",
   "metadata": {},
   "source": [
    "## Download HF dataset"
   ]
  },
  {
   "cell_type": "code",
   "execution_count": null,
   "id": "83a33fff-d10c-47c0-856e-1826739697d6",
   "metadata": {},
   "outputs": [],
   "source": [
    "import pandas as pd\n",
    "\n",
    "n_per_dataset = 200\n",
    "df = pd.DataFrame(columns=['prompt_en', 'prompt_ar', 'response_en', 'response_ar', 'source'])"
   ]
  },
  {
   "cell_type": "code",
   "execution_count": null,
   "id": "fd050fdb-81da-4324-8089-d8cfb4359389",
   "metadata": {},
   "outputs": [],
   "source": [
    "from datasets import load_dataset\n",
    "\n",
    "dataset_repo = 'akoksal/LongForm'\n",
    "dataset = load_dataset(dataset_repo, split='test')\n",
    "\n",
    "df_longForm = pd.DataFrame(dataset)\n",
    "df_longForm.shape"
   ]
  },
  {
   "cell_type": "code",
   "execution_count": null,
   "id": "02001f25-0947-451b-aaba-4c42a32d5e5c",
   "metadata": {},
   "outputs": [],
   "source": [
    "df_longForm.head()"
   ]
  },
  {
   "cell_type": "code",
   "execution_count": null,
   "id": "103ef945-3f4c-452b-b6dc-189c3c191f05",
   "metadata": {},
   "outputs": [],
   "source": [
    "subsampled_df = df_longForm[['input', 'output']].sample(n=n_per_dataset).reset_index(drop=True)\n",
    "\n",
    "df = pd.concat([df, pd.DataFrame(\n",
    "    {'prompt_en': subsampled_df['input'].tolist(),\n",
    "     'prompt_ar': '',\n",
    "     'response_en': subsampled_df['output'].tolist(),\n",
    "     'response_ar': '',\n",
    "     'source': dataset_repo,\n",
    "    })], ignore_index=True)\n",
    "\n",
    "df.shape"
   ]
  },
  {
   "cell_type": "code",
   "execution_count": null,
   "id": "0aded5d1-b369-4d1a-8313-2ac45f64180f",
   "metadata": {},
   "outputs": [],
   "source": [
    "from datasets import load_dataset\n",
    "\n",
    "dataset_repo = 'mlabonne/alpagasus'\n",
    "dataset = load_dataset(dataset_repo, split='train')\n",
    "\n",
    "df_alpagasus = pd.DataFrame(dataset)\n",
    "df_alpagasus.shape"
   ]
  },
  {
   "cell_type": "code",
   "execution_count": null,
   "id": "5ad393af-713e-40c0-8084-6d4839d53f59",
   "metadata": {},
   "outputs": [],
   "source": [
    "df_alpagasus = df_alpagasus[df_alpagasus['input'] == '']\n",
    "df_alpagasus.shape"
   ]
  },
  {
   "cell_type": "code",
   "execution_count": null,
   "id": "cee9243c-d05e-4273-97a5-4c677bd41e00",
   "metadata": {},
   "outputs": [],
   "source": [
    "df_alpagasus.head()"
   ]
  },
  {
   "cell_type": "code",
   "execution_count": null,
   "id": "83c9516e-3a5c-4ead-aca2-7757111b2d3f",
   "metadata": {},
   "outputs": [],
   "source": [
    "subsampled_df = df_alpagasus[['instruction', 'output']].sample(n=n_per_dataset).reset_index(drop=True)\n",
    "\n",
    "df = pd.concat([df, pd.DataFrame(\n",
    "    {'prompt_en': subsampled_df['instruction'].tolist(),\n",
    "     'prompt_ar': '',\n",
    "     'response_en': subsampled_df['output'].tolist(),\n",
    "     'response_ar': '',\n",
    "     'source': dataset_repo,\n",
    "    })], ignore_index=True)\n",
    "\n",
    "df.shape"
   ]
  },
  {
   "cell_type": "code",
   "execution_count": null,
   "id": "cba8e788-f2b0-4b73-8476-a70a0559f524",
   "metadata": {},
   "outputs": [],
   "source": [
    "from datasets import load_dataset\n",
    "\n",
    "dataset_repo = 'HuggingFaceH4/Koala-test-set'\n",
    "dataset = load_dataset(dataset_repo, split='test')\n",
    "\n",
    "df_koala = pd.DataFrame(dataset)\n",
    "df_koala.shape"
   ]
  },
  {
   "cell_type": "code",
   "execution_count": null,
   "id": "bdab1dd5-1781-41a9-a778-e7931b9d29ea",
   "metadata": {},
   "outputs": [],
   "source": [
    "df_koala.head()"
   ]
  },
  {
   "cell_type": "code",
   "execution_count": null,
   "id": "29ef9a7f-6624-453b-822e-500bd1ce8829",
   "metadata": {},
   "outputs": [],
   "source": [
    "df = pd.concat([df, pd.DataFrame(\n",
    "    {'prompt_en': df_koala['prompt'].tolist(),\n",
    "     'prompt_ar': '',\n",
    "     'response_en': '',\n",
    "     'response_ar': '',\n",
    "     'source': dataset_repo,\n",
    "    })], ignore_index=True)\n",
    "\n",
    "df.shape"
   ]
  },
  {
   "cell_type": "code",
   "execution_count": null,
   "id": "a0974f42-c126-4bd4-a312-574c5daabe54",
   "metadata": {
    "scrolled": true
   },
   "outputs": [],
   "source": [
    "from datasets import load_dataset\n",
    "\n",
    "dataset_repo = 'HuggingFaceH4/ultrachat_200k'\n",
    "dataset = load_dataset(dataset_repo, split='test_sft')\n",
    "\n",
    "df_ultra = pd.DataFrame(dataset)\n",
    "df_ultra.shape"
   ]
  },
  {
   "cell_type": "code",
   "execution_count": null,
   "id": "33dbe299-7d27-4c12-9b09-6d078813b5a7",
   "metadata": {},
   "outputs": [],
   "source": [
    "df_ultra.head()"
   ]
  },
  {
   "cell_type": "code",
   "execution_count": null,
   "id": "4b1cd0e0-7f16-476a-b64f-e9296637baf5",
   "metadata": {
    "scrolled": true
   },
   "outputs": [],
   "source": [
    "df_ultra.messages.iloc[0][1]"
   ]
  },
  {
   "cell_type": "code",
   "execution_count": null,
   "id": "e5aff710-356e-48f7-94dc-8668de3061b1",
   "metadata": {},
   "outputs": [],
   "source": [
    "subsampled_df = df_ultra[['prompt', 'messages']].sample(n=n_per_dataset).reset_index(drop=True)\n",
    "collect_prompt = []\n",
    "collect_response = []\n",
    "\n",
    "for i in range(subsampled_df.shape[0]):\n",
    "    messages = subsampled_df.messages.iloc[i]\n",
    "    current_role = 'user'\n",
    "\n",
    "    collect_prompt_sub = []\n",
    "    collect_response_sub = []\n",
    "    \n",
    "    for message in messages:\n",
    "        role = message['role']\n",
    "        content = message['content']\n",
    "        if role != current_role:\n",
    "            break\n",
    "        \n",
    "        if current_role == 'user':\n",
    "            collect_prompt_sub.append(content)\n",
    "            current_role = 'assistant'\n",
    "        else:\n",
    "            collect_response_sub.append(content)\n",
    "            current_role = 'user'\n",
    "\n",
    "    if len(collect_prompt_sub) != 0:\n",
    "        collect_prompt.append(collect_prompt_sub)\n",
    "        collect_response.append(collect_response_sub)\n",
    "\n",
    "len(collect_prompt), len(collect_response)"
   ]
  },
  {
   "cell_type": "code",
   "execution_count": null,
   "id": "7e50239e-fc80-43ee-8861-60e49f11cdb1",
   "metadata": {},
   "outputs": [],
   "source": [
    "df = pd.concat([df, pd.DataFrame(\n",
    "    {'prompt_en': collect_prompt,\n",
    "     'prompt_ar': '',\n",
    "     'response_en': collect_response,\n",
    "     'response_ar': '',\n",
    "     'source': dataset_repo,\n",
    "    })], ignore_index=True)\n",
    "\n",
    "df.shape"
   ]
  },
  {
   "cell_type": "code",
   "execution_count": null,
   "id": "81e64d4b-dfeb-4be5-9628-bef3564898f1",
   "metadata": {},
   "outputs": [],
   "source": [
    "from datasets import load_dataset\n",
    "\n",
    "dataset_repo = 'HuggingFaceH4/mt_bench_prompts'\n",
    "dataset = load_dataset(dataset_repo, split='train')\n",
    "\n",
    "df_mt = pd.DataFrame(dataset)\n",
    "df_mt.shape"
   ]
  },
  {
   "cell_type": "code",
   "execution_count": null,
   "id": "24578987-2005-44b5-9a76-c574a65b40dd",
   "metadata": {},
   "outputs": [],
   "source": [
    "df_mt.head()"
   ]
  },
  {
   "cell_type": "code",
   "execution_count": null,
   "id": "455077b4-0890-4ae2-b372-afeddc7a94c4",
   "metadata": {},
   "outputs": [],
   "source": [
    "df = pd.concat([df, pd.DataFrame(\n",
    "    {'prompt_en': df_mt['prompt'].tolist(),\n",
    "     'prompt_ar': '',\n",
    "     'response_en': '',\n",
    "     'response_ar': '',\n",
    "     'source': dataset_repo,\n",
    "    })], ignore_index=True)\n",
    "\n",
    "df.shape"
   ]
  },
  {
   "cell_type": "code",
   "execution_count": null,
   "id": "7338855e-2c0f-49ea-b718-75decfad393c",
   "metadata": {},
   "outputs": [],
   "source": [
    "from datasets import load_dataset\n",
    "\n",
    "dataset_repo = 'reciprocate/alpaca-eval'\n",
    "dataset = load_dataset(dataset_repo, split='test')\n",
    "\n",
    "df_alpaca = pd.DataFrame(dataset)\n",
    "df_alpaca.shape"
   ]
  },
  {
   "cell_type": "code",
   "execution_count": null,
   "id": "de890fac-859a-4027-8db0-70a43dd4022d",
   "metadata": {},
   "outputs": [],
   "source": [
    "df_alpaca.head()"
   ]
  },
  {
   "cell_type": "code",
   "execution_count": null,
   "id": "282b655d-c780-4f87-bfca-11f7793bfe72",
   "metadata": {},
   "outputs": [],
   "source": [
    "subsampled_df = df_alpaca[['prompt', 'selected']].sample(n=n_per_dataset).reset_index(drop=True)\n",
    "\n",
    "subsampled_df['prompt'] = subsampled_df['prompt'].str.lstrip('USER: ')\n",
    "subsampled_df['prompt'] = subsampled_df['prompt'].str.rstrip(' ASSISTANT: ')"
   ]
  },
  {
   "cell_type": "code",
   "execution_count": null,
   "id": "51b9b330-1d7d-4b9c-aef8-115549379591",
   "metadata": {},
   "outputs": [],
   "source": [
    "df = pd.concat([df, pd.DataFrame(\n",
    "    {'prompt_en': [i for i in subsampled_df['prompt'].tolist()],\n",
    "     'prompt_ar': '',\n",
    "     'response_en': subsampled_df['selected'].tolist(),\n",
    "     'response_ar': '',\n",
    "     'source': dataset_repo,\n",
    "    })], ignore_index=True)\n",
    "\n",
    "df.shape"
   ]
  },
  {
   "cell_type": "code",
   "execution_count": null,
   "id": "de033aea-39b9-4085-9a50-538ee162a99f",
   "metadata": {
    "scrolled": true
   },
   "outputs": [],
   "source": [
    "from datasets import load_dataset\n",
    "\n",
    "dataset_repo = 'natolambert/xstest-v2-copy'\n",
    "dataset = load_dataset(dataset_repo, split='gpt4')\n",
    "\n",
    "df_xstest = pd.DataFrame(dataset)\n",
    "df_xstest.shape"
   ]
  },
  {
   "cell_type": "code",
   "execution_count": null,
   "id": "be867223-95c1-4288-af97-b06c02d6e84c",
   "metadata": {},
   "outputs": [],
   "source": [
    "df_xstest.head()"
   ]
  },
  {
   "cell_type": "code",
   "execution_count": null,
   "id": "97e50446-5ff0-449a-bddc-07ef4d500eba",
   "metadata": {},
   "outputs": [],
   "source": [
    "df_xstest.type.value_counts()"
   ]
  },
  {
   "cell_type": "code",
   "execution_count": null,
   "id": "44ec6106-df4b-46ce-8de2-4879391e0974",
   "metadata": {},
   "outputs": [],
   "source": [
    "df_xstest['focus_type'] = df_xstest.type.apply(lambda x: 'contrast' if 'contrast' in x else 'others')"
   ]
  },
  {
   "cell_type": "code",
   "execution_count": null,
   "id": "26cc403f-1df0-4967-a85c-5d90dd425f6d",
   "metadata": {},
   "outputs": [],
   "source": [
    "df_xstest.focus_type.value_counts()"
   ]
  },
  {
   "cell_type": "code",
   "execution_count": null,
   "id": "58e1e7ae-803b-4730-bd0f-4ac3b917476b",
   "metadata": {},
   "outputs": [],
   "source": [
    "subsampled_df_contrast = df_xstest[df_xstest.focus_type == 'contrast']\n",
    "subsampled_df_others = df_xstest[df_xstest.focus_type != 'contrast']\n",
    "\n",
    "subsampled_df_contrast = subsampled_df_contrast[['prompt', 'completion']].sample(n=n_per_dataset//2).reset_index(drop=True)\n",
    "subsampled_df_others = subsampled_df_others[['prompt', 'completion']].sample(n=n_per_dataset//2).reset_index(drop=True)\n",
    "\n",
    "df = pd.concat([df, pd.DataFrame(\n",
    "    {'prompt_en': subsampled_df_contrast['prompt'].tolist(),\n",
    "     'prompt_ar': '',\n",
    "     'response_en': subsampled_df_contrast['completion'].tolist(),\n",
    "     'response_ar': '',\n",
    "     'source': f'{dataset_repo}_contrast',\n",
    "    })], ignore_index=True)\n",
    "\n",
    "df = pd.concat([df, pd.DataFrame(\n",
    "    {'prompt_en': subsampled_df_others['prompt'].tolist(),\n",
    "     'prompt_ar': '',\n",
    "     'response_en': subsampled_df_others['completion'].tolist(),\n",
    "     'response_ar': '',\n",
    "     'source': f'{dataset_repo}_others',\n",
    "    })], ignore_index=True)\n",
    "\n",
    "df.shape"
   ]
  },
  {
   "cell_type": "code",
   "execution_count": null,
   "id": "6c172279-5cd9-4e39-85dc-f6bbb4562ec1",
   "metadata": {},
   "outputs": [],
   "source": [
    "df_personal = pd.read_csv('red-team-personal.csv')\n",
    "df_personal.shape"
   ]
  },
  {
   "cell_type": "code",
   "execution_count": null,
   "id": "1d551244-2f29-4609-b45e-b5c0c2e6f590",
   "metadata": {},
   "outputs": [],
   "source": [
    "df_personal.head()"
   ]
  },
  {
   "cell_type": "code",
   "execution_count": null,
   "id": "d7c40282-20a3-4502-8d6a-702e1692d89c",
   "metadata": {},
   "outputs": [],
   "source": [
    "df = pd.concat([df, pd.DataFrame(\n",
    "    {'prompt_en': df_personal['PROMPT'].tolist(),\n",
    "     'prompt_ar': '',\n",
    "     'response_en': '',\n",
    "     'response_ar': '',\n",
    "     'source': f'fanar_redteam',\n",
    "    })], ignore_index=True)"
   ]
  },
  {
   "cell_type": "code",
   "execution_count": null,
   "id": "a86d4661-2046-44ea-913b-a8e36f174404",
   "metadata": {},
   "outputs": [],
   "source": [
    "df.shape"
   ]
  },
  {
   "cell_type": "code",
   "execution_count": null,
   "id": "e6b9695a-f9be-4ca1-bc22-45d771a66cba",
   "metadata": {},
   "outputs": [],
   "source": [
    "df.source.value_counts()"
   ]
  },
  {
   "cell_type": "code",
   "execution_count": null,
   "id": "fb80e818-58c2-47b3-9f43-2f5739ff5380",
   "metadata": {},
   "outputs": [],
   "source": [
    "df.to_csv('assets/analyzeDataset.csv', index=False)"
   ]
  },
  {
   "cell_type": "markdown",
   "id": "2aed0618-b4ac-410b-9dfd-5a95f8945897",
   "metadata": {},
   "source": [
    "### Translate content to arabic"
   ]
  },
  {
   "cell_type": "code",
   "execution_count": null,
   "id": "d8ede7e7-88f7-4fc3-a318-f2d6f3cda3b7",
   "metadata": {},
   "outputs": [],
   "source": [
    "import pandas as pd\n",
    "df = pd.read_csv('assets/analyzeDataset.csv')\n",
    "df.shape"
   ]
  },
  {
   "cell_type": "code",
   "execution_count": null,
   "id": "ee372cc5-a2e0-427e-bfb0-f2c132790913",
   "metadata": {},
   "outputs": [],
   "source": [
    "df.source.value_counts()"
   ]
  },
  {
   "cell_type": "code",
   "execution_count": null,
   "id": "e4e16071-6d05-401d-827b-b8d4dab0e9f9",
   "metadata": {},
   "outputs": [],
   "source": [
    "df.head()"
   ]
  },
  {
   "cell_type": "code",
   "execution_count": null,
   "id": "fe93f312-8547-4dc9-aa88-a4e55cf52cf0",
   "metadata": {},
   "outputs": [],
   "source": [
    "from utils import get_correct_format\n",
    "\n",
    "df.prompt_en = df.prompt_en.apply(get_correct_format)\n",
    "df.response_en = df.response_en.apply(get_correct_format)"
   ]
  },
  {
   "cell_type": "code",
   "execution_count": null,
   "id": "5d486efa-17cd-4e2c-871b-0ca7188f18f3",
   "metadata": {},
   "outputs": [],
   "source": [
    "from utils import google_translator\n",
    "\n",
    "google_translator(df.prompt_en.iloc[0])"
   ]
  },
  {
   "cell_type": "code",
   "execution_count": null,
   "id": "fdfd512b-5e79-4ee1-a016-b30acbb693d6",
   "metadata": {},
   "outputs": [],
   "source": [
    "from tqdm import tqdm\n",
    "\n",
    "cnt_exception = 0\n",
    "\n",
    "for i in tqdm(range(df.shape[0])):\n",
    "    prompt = df.prompt_en.iloc[i]\n",
    "    try:\n",
    "        if isinstance(prompt, list):\n",
    "            prompt_tmp = []\n",
    "            for p in prompt:\n",
    "                prompt_tmp.append(google_translator(p))\n",
    "            df.at[i, 'prompt_ar'] = prompt_tmp\n",
    "        else:\n",
    "            df.at[i, 'prompt_ar'] = google_translator(prompt)\n",
    "    \n",
    "        response = df.response_en.iloc[i]\n",
    "        if isinstance(response, list):\n",
    "            response_tmp = []\n",
    "            for r in response:\n",
    "                response_tmp.append(google_translator(r))\n",
    "            df.at[i, 'response_ar'] = response_tmp\n",
    "        else:\n",
    "            df.at[i, 'response_ar'] = google_translator(response)\n",
    "    except:\n",
    "        cnt_exception += 1\n",
    "\n",
    "    if not i%10:\n",
    "        df.to_csv('assets/analyzeDataset.csv', index=False)\n",
    "\n",
    "df.head()"
   ]
  },
  {
   "cell_type": "code",
   "execution_count": null,
   "id": "4ed50f8a-8a2e-4718-87e2-8f487ae9fd07",
   "metadata": {},
   "outputs": [],
   "source": [
    "df.to_csv('assets/analyzeDataset.csv', index=False)"
   ]
  },
  {
   "cell_type": "code",
   "execution_count": null,
   "id": "3d76dc21-f347-4681-bfb7-e067b147a41a",
   "metadata": {},
   "outputs": [],
   "source": [
    "df.head()"
   ]
  },
  {
   "cell_type": "code",
   "execution_count": null,
   "id": "e3b873aa-1d5b-4a6d-a88d-90c8c3ce64e5",
   "metadata": {},
   "outputs": [],
   "source": [
    "i = 2\n",
    "\n",
    "def select_random_rows(group):\n",
    "    return group.sample(min(len(group), 5))\n",
    "\n",
    "random_rows = df.groupby('source', group_keys=False).apply(select_random_rows)\n",
    "\n",
    "random_rows.iloc[5*i:5*i+5]"
   ]
  }
 ],
 "metadata": {
  "kernelspec": {
   "display_name": "Python 3 (ipykernel)",
   "language": "python",
   "name": "python3"
  },
  "language_info": {
   "codemirror_mode": {
    "name": "ipython",
    "version": 3
   },
   "file_extension": ".py",
   "mimetype": "text/x-python",
   "name": "python",
   "nbconvert_exporter": "python",
   "pygments_lexer": "ipython3",
   "version": "3.12.2"
  }
 },
 "nbformat": 4,
 "nbformat_minor": 5
}
