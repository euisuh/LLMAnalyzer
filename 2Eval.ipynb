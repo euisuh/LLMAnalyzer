{
 "cells": [
  {
   "cell_type": "markdown",
   "id": "bd7de8a2-c92d-4477-b296-891efdef81d1",
   "metadata": {},
   "source": [
    "# GPT Query for evaluation"
   ]
  },
  {
   "cell_type": "code",
   "execution_count": 1,
   "id": "ce494b56-187b-4a18-894c-151cc35bf773",
   "metadata": {
    "scrolled": true
   },
   "outputs": [
    {
     "name": "stdout",
     "output_type": "stream",
     "text": [
      "Collecting openai==0.28\n",
      "  Using cached openai-0.28.0-py3-none-any.whl.metadata (13 kB)\n",
      "Requirement already satisfied: requests>=2.20 in /Users/esj/miniconda3/envs/data/lib/python3.9/site-packages (from openai==0.28) (2.31.0)\n",
      "Requirement already satisfied: tqdm in /Users/esj/miniconda3/envs/data/lib/python3.9/site-packages (from openai==0.28) (4.66.2)\n",
      "Requirement already satisfied: aiohttp in /Users/esj/miniconda3/envs/data/lib/python3.9/site-packages (from openai==0.28) (3.9.3)\n",
      "Requirement already satisfied: charset-normalizer<4,>=2 in /Users/esj/miniconda3/envs/data/lib/python3.9/site-packages (from requests>=2.20->openai==0.28) (3.3.2)\n",
      "Requirement already satisfied: idna<4,>=2.5 in /Users/esj/miniconda3/envs/data/lib/python3.9/site-packages (from requests>=2.20->openai==0.28) (3.6)\n",
      "Requirement already satisfied: urllib3<3,>=1.21.1 in /Users/esj/miniconda3/envs/data/lib/python3.9/site-packages (from requests>=2.20->openai==0.28) (2.2.1)\n",
      "Requirement already satisfied: certifi>=2017.4.17 in /Users/esj/miniconda3/envs/data/lib/python3.9/site-packages (from requests>=2.20->openai==0.28) (2024.2.2)\n",
      "Requirement already satisfied: aiosignal>=1.1.2 in /Users/esj/miniconda3/envs/data/lib/python3.9/site-packages (from aiohttp->openai==0.28) (1.3.1)\n",
      "Requirement already satisfied: attrs>=17.3.0 in /Users/esj/miniconda3/envs/data/lib/python3.9/site-packages (from aiohttp->openai==0.28) (23.2.0)\n",
      "Requirement already satisfied: frozenlist>=1.1.1 in /Users/esj/miniconda3/envs/data/lib/python3.9/site-packages (from aiohttp->openai==0.28) (1.4.1)\n",
      "Requirement already satisfied: multidict<7.0,>=4.5 in /Users/esj/miniconda3/envs/data/lib/python3.9/site-packages (from aiohttp->openai==0.28) (6.0.5)\n",
      "Requirement already satisfied: yarl<2.0,>=1.0 in /Users/esj/miniconda3/envs/data/lib/python3.9/site-packages (from aiohttp->openai==0.28) (1.9.4)\n",
      "Requirement already satisfied: async-timeout<5.0,>=4.0 in /Users/esj/miniconda3/envs/data/lib/python3.9/site-packages (from aiohttp->openai==0.28) (4.0.3)\n",
      "Using cached openai-0.28.0-py3-none-any.whl (76 kB)\n",
      "Installing collected packages: openai\n",
      "Successfully installed openai-0.28.0\n"
     ]
    }
   ],
   "source": [
    "! pip install openai==0.28"
   ]
  },
  {
   "cell_type": "markdown",
   "id": "d3716cd5-b428-4a28-b8c4-184a6ac607ed",
   "metadata": {},
   "source": [
    "## Retrieve dataset and response from different LLM"
   ]
  },
  {
   "cell_type": "code",
   "execution_count": 1,
   "id": "49f017a9-280f-43fa-99d6-35e97eefc415",
   "metadata": {},
   "outputs": [
    {
     "data": {
      "text/plain": [
       "(1583, 13)"
      ]
     },
     "execution_count": 1,
     "metadata": {},
     "output_type": "execute_result"
    }
   ],
   "source": [
    "import pandas as pd\n",
    "\n",
    "df = pd.read_csv('assets/analyzeDataset1.csv')\n",
    "df.shape"
   ]
  },
  {
   "cell_type": "code",
   "execution_count": 2,
   "id": "3789fb80-5d29-46c2-b595-ac776f64a47e",
   "metadata": {},
   "outputs": [],
   "source": [
    "from utils import get_correct_format\n",
    "\n",
    "for col in df.columns:\n",
    "    df[col] = df[col].apply(get_correct_format)"
   ]
  },
  {
   "cell_type": "code",
   "execution_count": 3,
   "id": "b9c3ccf1-06e6-40b2-bc2f-eccc7fd96099",
   "metadata": {},
   "outputs": [
    {
     "name": "stdout",
     "output_type": "stream",
     "text": [
      "Number of strings in each column:\n",
      "prompt_en: 1303\n",
      "prompt_ar: 1303\n",
      "response_en: 799\n",
      "response_ar: 799\n",
      "source: 1583\n",
      "73k_en_response: 1582\n",
      "73k_ar_response: 1582\n",
      "53k_en_response: 1582\n",
      "53k_ar_response: 1582\n",
      "3B_en_response: 1567\n",
      "3B_ar_response: 1566\n",
      "28k_en_response: 1583\n",
      "28k_ar_response: 1578\n",
      "\n",
      "Number of lists in each column:\n",
      "prompt_en: 280\n",
      "prompt_ar: 280\n",
      "response_en: 200\n",
      "response_ar: 200\n",
      "source: 0\n",
      "73k_en_response: 0\n",
      "73k_ar_response: 0\n",
      "53k_en_response: 0\n",
      "53k_ar_response: 0\n",
      "3B_en_response: 8\n",
      "3B_ar_response: 15\n",
      "28k_en_response: 0\n",
      "28k_ar_response: 0\n"
     ]
    }
   ],
   "source": [
    "def count_strings_and_lists(df):\n",
    "    string_count = {}\n",
    "    list_count = {}\n",
    "\n",
    "    for column in df.columns:\n",
    "        string_count[column] = 0\n",
    "        list_count[column] = 0\n",
    "\n",
    "        for item in df[column]:\n",
    "            if isinstance(item, str):\n",
    "                string_count[column] += 1\n",
    "            elif isinstance(item, list):\n",
    "                list_count[column] += 1\n",
    "\n",
    "    return string_count, list_count\n",
    "\n",
    "string_count, list_count = count_strings_and_lists(df)\n",
    "print(\"Number of strings in each column:\")\n",
    "for column, count in string_count.items():\n",
    "    print(f\"{column}: {count}\")\n",
    "\n",
    "print(\"\\nNumber of lists in each column:\")\n",
    "for column, count in list_count.items():\n",
    "    print(f\"{column}: {count}\")"
   ]
  },
  {
   "cell_type": "code",
   "execution_count": 4,
   "id": "3a46bd22-9ea6-452c-a71f-a02520271046",
   "metadata": {},
   "outputs": [
    {
     "data": {
      "text/html": [
       "<div>\n",
       "<style scoped>\n",
       "    .dataframe tbody tr th:only-of-type {\n",
       "        vertical-align: middle;\n",
       "    }\n",
       "\n",
       "    .dataframe tbody tr th {\n",
       "        vertical-align: top;\n",
       "    }\n",
       "\n",
       "    .dataframe thead th {\n",
       "        text-align: right;\n",
       "    }\n",
       "</style>\n",
       "<table border=\"1\" class=\"dataframe\">\n",
       "  <thead>\n",
       "    <tr style=\"text-align: right;\">\n",
       "      <th></th>\n",
       "      <th>prompt_en</th>\n",
       "      <th>prompt_ar</th>\n",
       "      <th>response_en</th>\n",
       "      <th>response_ar</th>\n",
       "      <th>source</th>\n",
       "      <th>73k_en_response</th>\n",
       "      <th>73k_ar_response</th>\n",
       "      <th>53k_en_response</th>\n",
       "      <th>53k_ar_response</th>\n",
       "      <th>3B_en_response</th>\n",
       "      <th>3B_ar_response</th>\n",
       "      <th>28k_en_response</th>\n",
       "      <th>28k_ar_response</th>\n",
       "    </tr>\n",
       "  </thead>\n",
       "  <tbody>\n",
       "    <tr>\n",
       "      <th>0</th>\n",
       "      <td>What medals did Ursula Gläser win at the ICF C...</td>\n",
       "      <td>ما الميداليات التي فازت بها Ursula Gläser في ب...</td>\n",
       "      <td>Ursula Gläser is a retired East German slalom ...</td>\n",
       "      <td>Ursula Gläser (من مواليد 18 سبتمبر 1989) هي را...</td>\n",
       "      <td>akoksal/LongForm</td>\n",
       "      <td>At this year's world championships, she won a...</td>\n",
       "      <td>فازت Ursula Gl&lt;0xC3&gt;&lt;0xA4&gt;ser بالميدالية الذه...</td>\n",
       "      <td>At least one of her most notable wins was in ...</td>\n",
       "      <td>فازت Ursula Gl&lt;0xC3&gt;&lt;0xA4&gt;ser بالميدالية الذه...</td>\n",
       "      <td>أنا آسفة، لا يمكنني الإجابة على هذا السؤال. ير...</td>\n",
       "      <td>في بطولة العالم لسباق الزوارق ICF، فازت Ursula Gl</td>\n",
       "      <td>Ursula Gl&lt;0xC3&gt;&lt;0xA4&gt;ser won a meditation at ...</td>\n",
       "      <td>لقد فازت Ursula Gl&lt;0xC3&gt;&lt;0xA4&gt;ser في بطولة ال...</td>\n",
       "    </tr>\n",
       "    <tr>\n",
       "      <th>1</th>\n",
       "      <td>FAQ: Do you hold regular chat events?\\n\\nSome ...</td>\n",
       "      <td>الأسئلة الشائعة: هل تعقد أحداث دردشة منتظمة؟\\n...</td>\n",
       "      <td>Starting May 2012, the Linguistics site will h...</td>\n",
       "      <td>بدءًا من مايو 2012، سيعقد موقع اللغويات أحداثً...</td>\n",
       "      <td>akoksal/LongForm</td>\n",
       "      <td>Yes, some of our online services (including o...</td>\n",
       "      <td>نعم، تنظم بعض مواقع SE أحداثًا منتظمة حول موض...</td>\n",
       "      <td>Yes! Some of our most popular and well-known ...</td>\n",
       "      <td>نعم، هناك أحداث الدردشة المنتظمة في بعض مواقع...</td>\n",
       "      <td>لا، لا يمكنني تقديم معلومات حول ما إذا كانت ا...</td>\n",
       "      <td>نعم، لدى اللغويات أحداث دردشة منتظمة.\\n\\nتعد ...</td>\n",
       "      <td>Yes, we can't hold regular chat events.</td>\n",
       "      <td>الإجابة بناءً على المعلومات المقدمة هي: \"تعقد...</td>\n",
       "    </tr>\n",
       "    <tr>\n",
       "      <th>2</th>\n",
       "      <td>\"Paragraph: After a spate of mass shootings in...</td>\n",
       "      <td>\"الفقرة: بعد موجة من عمليات إطلاق النار الجماع...</td>\n",
       "      <td>What's true: Massachusetts requires gun-licens...</td>\n",
       "      <td>ما هو صحيح: تطلب ولاية ماساتشوستس من المتقدمين...</td>\n",
       "      <td>akoksal/LongForm</td>\n",
       "      <td>Explanation: Accordingly, if we look back onl...</td>\n",
       "      <td>إجابة: نعمشهادة: وينص السياق بوضوح على أن ولا...</td>\n",
       "      <td>Yes, I understand the need for more informati...</td>\n",
       "      <td>إجابة: نعمشهادة: وينص السياق على أن \"احتلال ا...</td>\n",
       "      <td>\\n\\nThe claim is claimed by the opp</td>\n",
       "      <td>إجابة: نعمشهادة: إن حقيقة أن ميم \"احتلوا الديم...</td>\n",
       "      <td>1. The claim will always have supporting proo...</td>\n",
       "      <td>إجابة: 2018شهادة: تم تحديد السياق صراحةً عن ق...</td>\n",
       "    </tr>\n",
       "    <tr>\n",
       "      <th>3</th>\n",
       "      <td>The car isn't the best way for for the transpo...</td>\n",
       "      <td>السيارة ليست هي الوسيلة الأفضل للتنقل، لأنها ت...</td>\n",
       "      <td>The car isn't the best way forward for transpo...</td>\n",
       "      <td>السيارة ليست أفضل وسيلة للتنقل، لأنها تنتج الك...</td>\n",
       "      <td>akoksal/LongForm</td>\n",
       "      <td>The city's development has made available sev...</td>\n",
       "      <td>السيارة ليست هي الوسيلة الأفضل للتنقل لأنها ت...</td>\n",
       "      <td>The city has several means available such as ...</td>\n",
       "      <td>السيارة ليست هي الوسيلة الأفضل للتنقل، لأنها ...</td>\n",
       "      <td>بكل سرور! ها هو ذا النص المصحح:\\nThe car is</td>\n",
       "      <td>بالطبع! إليك النص المصحح:\\nالسيارة ليست هي الو...</td>\n",
       "      <td>This document is about the importance of prot...</td>\n",
       "      <td>\"الإيجار\" هو مصطلح يستخدم لوصف عملية صنع القرار.</td>\n",
       "    </tr>\n",
       "    <tr>\n",
       "      <th>4</th>\n",
       "      <td>...</td>\n",
       "      <td>روا فرانسيسكو كزافييه رقم 3 أوبيدوس، 25 أبريل ...</td>\n",
       "      <td>...</td>\n",
       "      <td>روا فرانسيسكو كزافييه رقم 3 أوبيدوس، 25 أبريل ...</td>\n",
       "      <td>akoksal/LongForm</td>\n",
       "      <td>Dear [Name],\\n\\nThank you, once again, that y...</td>\n",
       "      <td>عزيزي المعسكر الصيفي في الولايات المتحدة،\\n\\n...</td>\n",
       "      <td>Dear [Usa Summer Camps],\\n\\nThank You for You...</td>\n",
       "      <td>عزيزي المعسكر الصيفي في الولايات المتحدة،\\n\\n...</td>\n",
       "      <td>مرحبًا! أنا هنا لمساعدتك في أي أسئلة أو استفس...</td>\n",
       "      <td>بكل سرور! ها هو المستند مصحح:\\n\\n[اسمك]</td>\n",
       "      <td>The error message suggests that the `pip` arg...</td>\n",
       "      <td>بالتأكيد! إليك نسخة منقحة من الوظيفة:\\n\\nالعن...</td>\n",
       "    </tr>\n",
       "  </tbody>\n",
       "</table>\n",
       "</div>"
      ],
      "text/plain": [
       "                                           prompt_en  \\\n",
       "0  What medals did Ursula Gläser win at the ICF C...   \n",
       "1  FAQ: Do you hold regular chat events?\\n\\nSome ...   \n",
       "2  \"Paragraph: After a spate of mass shootings in...   \n",
       "3  The car isn't the best way for for the transpo...   \n",
       "4                                                ...   \n",
       "\n",
       "                                           prompt_ar  \\\n",
       "0  ما الميداليات التي فازت بها Ursula Gläser في ب...   \n",
       "1  الأسئلة الشائعة: هل تعقد أحداث دردشة منتظمة؟\\n...   \n",
       "2  \"الفقرة: بعد موجة من عمليات إطلاق النار الجماع...   \n",
       "3  السيارة ليست هي الوسيلة الأفضل للتنقل، لأنها ت...   \n",
       "4  روا فرانسيسكو كزافييه رقم 3 أوبيدوس، 25 أبريل ...   \n",
       "\n",
       "                                         response_en  \\\n",
       "0  Ursula Gläser is a retired East German slalom ...   \n",
       "1  Starting May 2012, the Linguistics site will h...   \n",
       "2  What's true: Massachusetts requires gun-licens...   \n",
       "3  The car isn't the best way forward for transpo...   \n",
       "4                                                ...   \n",
       "\n",
       "                                         response_ar            source  \\\n",
       "0  Ursula Gläser (من مواليد 18 سبتمبر 1989) هي را...  akoksal/LongForm   \n",
       "1  بدءًا من مايو 2012، سيعقد موقع اللغويات أحداثً...  akoksal/LongForm   \n",
       "2  ما هو صحيح: تطلب ولاية ماساتشوستس من المتقدمين...  akoksal/LongForm   \n",
       "3  السيارة ليست أفضل وسيلة للتنقل، لأنها تنتج الك...  akoksal/LongForm   \n",
       "4  روا فرانسيسكو كزافييه رقم 3 أوبيدوس، 25 أبريل ...  akoksal/LongForm   \n",
       "\n",
       "                                     73k_en_response  \\\n",
       "0   At this year's world championships, she won a...   \n",
       "1   Yes, some of our online services (including o...   \n",
       "2   Explanation: Accordingly, if we look back onl...   \n",
       "3   The city's development has made available sev...   \n",
       "4   Dear [Name],\\n\\nThank you, once again, that y...   \n",
       "\n",
       "                                     73k_ar_response  \\\n",
       "0   فازت Ursula Gl<0xC3><0xA4>ser بالميدالية الذه...   \n",
       "1   نعم، تنظم بعض مواقع SE أحداثًا منتظمة حول موض...   \n",
       "2   إجابة: نعمشهادة: وينص السياق بوضوح على أن ولا...   \n",
       "3   السيارة ليست هي الوسيلة الأفضل للتنقل لأنها ت...   \n",
       "4   عزيزي المعسكر الصيفي في الولايات المتحدة،\\n\\n...   \n",
       "\n",
       "                                     53k_en_response  \\\n",
       "0   At least one of her most notable wins was in ...   \n",
       "1   Yes! Some of our most popular and well-known ...   \n",
       "2   Yes, I understand the need for more informati...   \n",
       "3   The city has several means available such as ...   \n",
       "4   Dear [Usa Summer Camps],\\n\\nThank You for You...   \n",
       "\n",
       "                                     53k_ar_response  \\\n",
       "0   فازت Ursula Gl<0xC3><0xA4>ser بالميدالية الذه...   \n",
       "1   نعم، هناك أحداث الدردشة المنتظمة في بعض مواقع...   \n",
       "2   إجابة: نعمشهادة: وينص السياق على أن \"احتلال ا...   \n",
       "3   السيارة ليست هي الوسيلة الأفضل للتنقل، لأنها ...   \n",
       "4   عزيزي المعسكر الصيفي في الولايات المتحدة،\\n\\n...   \n",
       "\n",
       "                                      3B_en_response  \\\n",
       "0  أنا آسفة، لا يمكنني الإجابة على هذا السؤال. ير...   \n",
       "1   لا، لا يمكنني تقديم معلومات حول ما إذا كانت ا...   \n",
       "2                \\n\\nThe claim is claimed by the opp   \n",
       "3        بكل سرور! ها هو ذا النص المصحح:\\nThe car is   \n",
       "4   مرحبًا! أنا هنا لمساعدتك في أي أسئلة أو استفس...   \n",
       "\n",
       "                                      3B_ar_response  \\\n",
       "0  في بطولة العالم لسباق الزوارق ICF، فازت Ursula Gl   \n",
       "1   نعم، لدى اللغويات أحداث دردشة منتظمة.\\n\\nتعد ...   \n",
       "2  إجابة: نعمشهادة: إن حقيقة أن ميم \"احتلوا الديم...   \n",
       "3  بالطبع! إليك النص المصحح:\\nالسيارة ليست هي الو...   \n",
       "4            بكل سرور! ها هو المستند مصحح:\\n\\n[اسمك]   \n",
       "\n",
       "                                     28k_en_response  \\\n",
       "0   Ursula Gl<0xC3><0xA4>ser won a meditation at ...   \n",
       "1            Yes, we can't hold regular chat events.   \n",
       "2   1. The claim will always have supporting proo...   \n",
       "3   This document is about the importance of prot...   \n",
       "4   The error message suggests that the `pip` arg...   \n",
       "\n",
       "                                     28k_ar_response  \n",
       "0   لقد فازت Ursula Gl<0xC3><0xA4>ser في بطولة ال...  \n",
       "1   الإجابة بناءً على المعلومات المقدمة هي: \"تعقد...  \n",
       "2   إجابة: 2018شهادة: تم تحديد السياق صراحةً عن ق...  \n",
       "3   \"الإيجار\" هو مصطلح يستخدم لوصف عملية صنع القرار.  \n",
       "4   بالتأكيد! إليك نسخة منقحة من الوظيفة:\\n\\nالعن...  "
      ]
     },
     "execution_count": 4,
     "metadata": {},
     "output_type": "execute_result"
    }
   ],
   "source": [
    "df.head()"
   ]
  },
  {
   "cell_type": "markdown",
   "id": "70da1d5a-2d94-4816-a8e9-d6b2effe26a7",
   "metadata": {},
   "source": [
    "## Query GPT response"
   ]
  },
  {
   "cell_type": "code",
   "execution_count": 10,
   "id": "35373d36-8375-4052-a955-f947aac59d5a",
   "metadata": {
    "scrolled": true
   },
   "outputs": [
    {
     "name": "stderr",
     "output_type": "stream",
     "text": [
      "100%|████████████████████████████████████████████████████████████████████████████████████████████████████████████████████████████████████████████████████████████████████████████████████████████| 523/523 [00:03<00:00, 149.06it/s]\n"
     ]
    }
   ],
   "source": [
    "from tqdm import tqdm\n",
    "from lmQuery import query_gpt35\n",
    "\n",
    "for i in tqdm(range(df.shape[0])):\n",
    "    if not i % 50:\n",
    "        df.to_csv('assets/analyzeDataset2.csv', index=False)\n",
    "        \n",
    "    if isinstance(df['prompt_en'].iloc[i], list):\n",
    "        en_context = []\n",
    "        en_response_acc = []\n",
    "        for p in df['prompt_en'].iloc[i]:\n",
    "            res = query_gpt35(p, context=en_context)\n",
    "            en_response_acc.append(res)\n",
    "            \n",
    "            en_context.append({\"role\": \"user\", \"content\": p})\n",
    "            en_context.append({\"role\": \"assistant\", \"content\": res})\n",
    "            \n",
    "        df.at[i, 'gpt35_en_response'] = en_response_acc\n",
    "\n",
    "        ar_context = []\n",
    "        ar_response_acc = []\n",
    "        for p in df['prompt_ar'].iloc[i]:\n",
    "            res = query_gpt35(p, arabic=True, context=ar_context)\n",
    "            ar_response_acc.append(res)\n",
    "            \n",
    "            ar_context.append({\"role\": \"user\", \"content\": p})\n",
    "            ar_context.append({\"role\": \"assistant\", \"content\": res})\n",
    "            \n",
    "        df.at[i, 'gpt35_ar_response'] = ar_response_acc\n",
    "        \n",
    "    else:\n",
    "        if len(df['gpt35_en_response'].iloc[i]) != 0 and len(df['gpt35_ar_response'].iloc[i]) != 0:\n",
    "            continue\n",
    "            \n",
    "        df.at[i, 'gpt35_en_response'] = query_gpt35(df['prompt_en'].iloc[i])\n",
    "        df.at[i, 'gpt35_ar_response'] = query_gpt35(df['prompt_ar'].iloc[i], arabic=True)"
   ]
  },
  {
   "cell_type": "code",
   "execution_count": 11,
   "id": "140476e7-0fbf-48a5-aa58-b094e857bb20",
   "metadata": {},
   "outputs": [],
   "source": [
    "df.to_csv('assets/analyzeDataset2.csv', index=False)"
   ]
  },
  {
   "cell_type": "markdown",
   "id": "a45e54fd-b8b2-4d8c-9b28-81b3f02284b2",
   "metadata": {},
   "source": [
    "## Evaluate response 1-10"
   ]
  },
  {
   "cell_type": "code",
   "execution_count": 15,
   "id": "c3919cc4-04d2-47c9-967c-e1a0385c2a69",
   "metadata": {},
   "outputs": [
    {
     "data": {
      "text/plain": [
       "['73k_en_response',\n",
       " '73k_ar_response',\n",
       " '53k_en_response',\n",
       " '53k_ar_response',\n",
       " '3B_en_response',\n",
       " '3B_ar_response',\n",
       " '28k_en_response',\n",
       " '28k_ar_response']"
      ]
     },
     "execution_count": 15,
     "metadata": {},
     "output_type": "execute_result"
    }
   ],
   "source": [
    "cols_to_eval = [c for c in df.columns if 'response' in c]\n",
    "cols_to_eval = [c for c in cols_to_eval if c not in ['response_en', 'response_ar', 'gpt35_en_response', 'gpt35_ar_response']]\n",
    "cols_to_eval"
   ]
  },
  {
   "cell_type": "code",
   "execution_count": 16,
   "id": "5f7a5bf4-ed3c-4600-8025-afbe928e716e",
   "metadata": {},
   "outputs": [],
   "source": [
    "for c in cols_to_eval:\n",
    "    df[f'{c}_eval'] = ''"
   ]
  },
  {
   "cell_type": "code",
   "execution_count": 35,
   "id": "3abaf8ad-4362-4d61-8316-0008de35c039",
   "metadata": {},
   "outputs": [
    {
     "name": "stderr",
     "output_type": "stream",
     "text": [
      "100%|█████████████████████████████████████████████████████████████████████████████████████████████████████████████████████████████████████████████████████████████████████████████████████████████| 522/522 [00:22<00:00, 23.10it/s]\n"
     ]
    }
   ],
   "source": [
    "from tqdm import tqdm\n",
    "# from lmQuery import query_gpt35, generate_evaluate_prompt\n",
    "\n",
    "for i in tqdm(range(1061, df.shape[0])):\n",
    "    if not i % 10:\n",
    "        df.to_csv('assets/analyzeDataset3.csv', index=False)\n",
    "        \n",
    "    if isinstance(df['prompt_en'].iloc[i], list):\n",
    "        continue\n",
    "        \n",
    "    else:\n",
    "        prompt = df['prompt_en'].iloc[i]\n",
    "        \n",
    "        for c in cols_to_eval:\n",
    "            response = df[c].iloc[i]\n",
    "            df.at[i, f'{c}_eval'] = query_gpt35(generate_evaluate_prompt(prompt, response))"
   ]
  },
  {
   "cell_type": "code",
   "execution_count": 36,
   "id": "21ac8c28-749e-4fa5-a42c-9b6285e5a669",
   "metadata": {},
   "outputs": [],
   "source": [
    "df.to_csv('assets/analyzeDataset3.csv', index=False)"
   ]
  },
  {
   "cell_type": "markdown",
   "id": "5b59d74c-9998-41ef-9b9c-d101a1e28fd4",
   "metadata": {},
   "source": [
    "## Extract rating"
   ]
  },
  {
   "cell_type": "code",
   "execution_count": null,
   "id": "cbd98f9a-6583-4dfe-ade5-9e2d4d8f2eb4",
   "metadata": {},
   "outputs": [],
   "source": []
  }
 ],
 "metadata": {
  "kernelspec": {
   "display_name": "Python 3 (ipykernel)",
   "language": "python",
   "name": "python3"
  },
  "language_info": {
   "codemirror_mode": {
    "name": "ipython",
    "version": 3
   },
   "file_extension": ".py",
   "mimetype": "text/x-python",
   "name": "python",
   "nbconvert_exporter": "python",
   "pygments_lexer": "ipython3",
   "version": "3.9.18"
  }
 },
 "nbformat": 4,
 "nbformat_minor": 5
}
